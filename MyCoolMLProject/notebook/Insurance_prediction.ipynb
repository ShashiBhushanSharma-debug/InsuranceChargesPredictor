{
  "nbformat": 4,
  "nbformat_minor": 0,
  "metadata": {
    "colab": {
      "provenance": []
    },
    "kernelspec": {
      "name": "python3",
      "display_name": "Python 3"
    },
    "language_info": {
      "name": "python"
    }
  },
  "cells": [
    {
      "cell_type": "code",
      "source": [
        "import os\n",
        "\n",
        "os.makedirs('MyCoolMLProject/data', exist_ok=True)\n",
        "os.makedirs('MyCoolMLProject/model', exist_ok=True)\n",
        "os.makedirs('MyCoolMLProject/notebook', exist_ok=True)\n"
      ],
      "metadata": {
        "id": "kSLzGbKoO8e8"
      },
      "execution_count": null,
      "outputs": []
    },
    {
      "cell_type": "markdown",
      "source": [
        "### Today rather than relying on scikit learn for the linear regression model in our custom mahcine learning mode, we will make our own linear regression model from scratch"
      ],
      "metadata": {
        "id": "qQMgjSMSyURw"
      }
    },
    {
      "cell_type": "code",
      "execution_count": null,
      "metadata": {
        "colab": {
          "base_uri": "https://localhost:8080/",
          "height": 70
        },
        "id": "F8TsbLOWuYQz",
        "outputId": "0683cf23-aa5d-4884-9662-be7800418612"
      },
      "outputs": [
        {
          "output_type": "execute_result",
          "data": {
            "text/plain": [
              "'\\nSteps to create or train a model:-\\n1. Data Collection (multiple sources like web, sql etc.)\\n2. Data Preprocessing :- includes changing the datatype, inclusion or exclusion of some columns or rows\\n3. Feature Engineering:- Collection of data or generation of feature form a given feature\\n4. Model Training\\n5. after training then Testing\\n\\n'"
            ],
            "application/vnd.google.colaboratory.intrinsic+json": {
              "type": "string"
            }
          },
          "metadata": {},
          "execution_count": 61
        }
      ],
      "source": [
        "'''\n",
        "Steps to create or train a model:-\n",
        "1. Data Collection (multiple sources like web, sql etc.)\n",
        "2. Data Preprocessing :- includes changing the datatype, inclusion or exclusion of some columns or rows\n",
        "3. Feature Engineering:- Collection of data or generation of feature form a given feature\n",
        "4. Model Training\n",
        "5. after training then Testing\n",
        "\n",
        "'''"
      ]
    },
    {
      "cell_type": "markdown",
      "source": [
        "Data Set used:-\n",
        "MEDICAL COST PERSONAL DATASET by Miri Chori"
      ],
      "metadata": {
        "id": "fBlN6vyr2kMH"
      }
    },
    {
      "cell_type": "code",
      "source": [
        "# Downloading data set directly into the google colab\n",
        "!pip install kaggle"
      ],
      "metadata": {
        "colab": {
          "base_uri": "https://localhost:8080/"
        },
        "id": "X8aaWe3h2jAJ",
        "outputId": "014c91de-e36c-4ac0-8f51-eafded23df6b"
      },
      "execution_count": null,
      "outputs": [
        {
          "output_type": "stream",
          "name": "stdout",
          "text": [
            "Requirement already satisfied: kaggle in /usr/local/lib/python3.11/dist-packages (1.7.4.5)\n",
            "Requirement already satisfied: bleach in /usr/local/lib/python3.11/dist-packages (from kaggle) (6.2.0)\n",
            "Requirement already satisfied: certifi>=14.05.14 in /usr/local/lib/python3.11/dist-packages (from kaggle) (2025.6.15)\n",
            "Requirement already satisfied: charset-normalizer in /usr/local/lib/python3.11/dist-packages (from kaggle) (3.4.2)\n",
            "Requirement already satisfied: idna in /usr/local/lib/python3.11/dist-packages (from kaggle) (3.10)\n",
            "Requirement already satisfied: protobuf in /usr/local/lib/python3.11/dist-packages (from kaggle) (5.29.5)\n",
            "Requirement already satisfied: python-dateutil>=2.5.3 in /usr/local/lib/python3.11/dist-packages (from kaggle) (2.9.0.post0)\n",
            "Requirement already satisfied: python-slugify in /usr/local/lib/python3.11/dist-packages (from kaggle) (8.0.4)\n",
            "Requirement already satisfied: requests in /usr/local/lib/python3.11/dist-packages (from kaggle) (2.32.3)\n",
            "Requirement already satisfied: setuptools>=21.0.0 in /usr/local/lib/python3.11/dist-packages (from kaggle) (75.2.0)\n",
            "Requirement already satisfied: six>=1.10 in /usr/local/lib/python3.11/dist-packages (from kaggle) (1.17.0)\n",
            "Requirement already satisfied: text-unidecode in /usr/local/lib/python3.11/dist-packages (from kaggle) (1.3)\n",
            "Requirement already satisfied: tqdm in /usr/local/lib/python3.11/dist-packages (from kaggle) (4.67.1)\n",
            "Requirement already satisfied: urllib3>=1.15.1 in /usr/local/lib/python3.11/dist-packages (from kaggle) (2.4.0)\n",
            "Requirement already satisfied: webencodings in /usr/local/lib/python3.11/dist-packages (from kaggle) (0.5.1)\n"
          ]
        }
      ]
    },
    {
      "cell_type": "code",
      "source": [
        "import kagglehub\n",
        "\n",
        "# Download latest version of the data\n",
        "path = kagglehub.dataset_download('mirichoi0218/insurance')\n",
        "print(f\"Path of the data set file :- {path}\") # To get where in google colab is the dataset is being stored\n"
      ],
      "metadata": {
        "colab": {
          "base_uri": "https://localhost:8080/"
        },
        "id": "fq4eGq-i36a9",
        "outputId": "f1491318-1bd4-4ccf-8d6a-3a30d1ab4ae4"
      },
      "execution_count": null,
      "outputs": [
        {
          "output_type": "stream",
          "name": "stdout",
          "text": [
            "Path of the data set file :- /kaggle/input/insurance\n"
          ]
        }
      ]
    },
    {
      "cell_type": "code",
      "source": [
        "import os\n",
        "print(os.getcwd())"
      ],
      "metadata": {
        "colab": {
          "base_uri": "https://localhost:8080/"
        },
        "id": "YQWLIetb4sRP",
        "outputId": "05a02dfc-02c2-4786-ea70-11f99ed2387b"
      },
      "execution_count": 123,
      "outputs": [
        {
          "output_type": "stream",
          "name": "stdout",
          "text": [
            "/content\n"
          ]
        }
      ]
    },
    {
      "cell_type": "code",
      "source": [
        "import pandas as pd\n",
        "os.listdir(\"/kaggle/input/insurance\")"
      ],
      "metadata": {
        "colab": {
          "base_uri": "https://localhost:8080/"
        },
        "id": "TwOrPMaU67fi",
        "outputId": "67aea813-a8c2-4781-901a-b8a0f64334c9"
      },
      "execution_count": null,
      "outputs": [
        {
          "output_type": "execute_result",
          "data": {
            "text/plain": [
              "['insurance.csv']"
            ]
          },
          "metadata": {},
          "execution_count": 65
        }
      ]
    },
    {
      "cell_type": "code",
      "source": [
        "df = pd.read_csv(os.path.join(path, 'insurance.csv'))"
      ],
      "metadata": {
        "id": "CLMRJ0Vo7GIB"
      },
      "execution_count": null,
      "outputs": []
    },
    {
      "cell_type": "code",
      "source": [
        "# Save the dataframe to your own project directory\n",
        "df.to_csv('MyCoolMLProject/data/insurance.csv', index=False)"
      ],
      "metadata": {
        "id": "9XP811LYXNLi"
      },
      "execution_count": 88,
      "outputs": []
    },
    {
      "cell_type": "code",
      "source": [
        "df.head() # This is to know how the data frame looks like"
      ],
      "metadata": {
        "colab": {
          "base_uri": "https://localhost:8080/",
          "height": 206
        },
        "id": "kyOtU9fr7w_1",
        "outputId": "baeeb8d7-d740-4d1f-8701-4f831b5fd6c0"
      },
      "execution_count": null,
      "outputs": [
        {
          "output_type": "execute_result",
          "data": {
            "text/plain": [
              "   age     sex     bmi  children smoker     region      charges\n",
              "0   19  female  27.900         0    yes  southwest  16884.92400\n",
              "1   18    male  33.770         1     no  southeast   1725.55230\n",
              "2   28    male  33.000         3     no  southeast   4449.46200\n",
              "3   33    male  22.705         0     no  northwest  21984.47061\n",
              "4   32    male  28.880         0     no  northwest   3866.85520"
            ],
            "text/html": [
              "\n",
              "  <div id=\"df-dfe2a138-68bc-4072-b383-4ec94d5c89e7\" class=\"colab-df-container\">\n",
              "    <div>\n",
              "<style scoped>\n",
              "    .dataframe tbody tr th:only-of-type {\n",
              "        vertical-align: middle;\n",
              "    }\n",
              "\n",
              "    .dataframe tbody tr th {\n",
              "        vertical-align: top;\n",
              "    }\n",
              "\n",
              "    .dataframe thead th {\n",
              "        text-align: right;\n",
              "    }\n",
              "</style>\n",
              "<table border=\"1\" class=\"dataframe\">\n",
              "  <thead>\n",
              "    <tr style=\"text-align: right;\">\n",
              "      <th></th>\n",
              "      <th>age</th>\n",
              "      <th>sex</th>\n",
              "      <th>bmi</th>\n",
              "      <th>children</th>\n",
              "      <th>smoker</th>\n",
              "      <th>region</th>\n",
              "      <th>charges</th>\n",
              "    </tr>\n",
              "  </thead>\n",
              "  <tbody>\n",
              "    <tr>\n",
              "      <th>0</th>\n",
              "      <td>19</td>\n",
              "      <td>female</td>\n",
              "      <td>27.900</td>\n",
              "      <td>0</td>\n",
              "      <td>yes</td>\n",
              "      <td>southwest</td>\n",
              "      <td>16884.92400</td>\n",
              "    </tr>\n",
              "    <tr>\n",
              "      <th>1</th>\n",
              "      <td>18</td>\n",
              "      <td>male</td>\n",
              "      <td>33.770</td>\n",
              "      <td>1</td>\n",
              "      <td>no</td>\n",
              "      <td>southeast</td>\n",
              "      <td>1725.55230</td>\n",
              "    </tr>\n",
              "    <tr>\n",
              "      <th>2</th>\n",
              "      <td>28</td>\n",
              "      <td>male</td>\n",
              "      <td>33.000</td>\n",
              "      <td>3</td>\n",
              "      <td>no</td>\n",
              "      <td>southeast</td>\n",
              "      <td>4449.46200</td>\n",
              "    </tr>\n",
              "    <tr>\n",
              "      <th>3</th>\n",
              "      <td>33</td>\n",
              "      <td>male</td>\n",
              "      <td>22.705</td>\n",
              "      <td>0</td>\n",
              "      <td>no</td>\n",
              "      <td>northwest</td>\n",
              "      <td>21984.47061</td>\n",
              "    </tr>\n",
              "    <tr>\n",
              "      <th>4</th>\n",
              "      <td>32</td>\n",
              "      <td>male</td>\n",
              "      <td>28.880</td>\n",
              "      <td>0</td>\n",
              "      <td>no</td>\n",
              "      <td>northwest</td>\n",
              "      <td>3866.85520</td>\n",
              "    </tr>\n",
              "  </tbody>\n",
              "</table>\n",
              "</div>\n",
              "    <div class=\"colab-df-buttons\">\n",
              "\n",
              "  <div class=\"colab-df-container\">\n",
              "    <button class=\"colab-df-convert\" onclick=\"convertToInteractive('df-dfe2a138-68bc-4072-b383-4ec94d5c89e7')\"\n",
              "            title=\"Convert this dataframe to an interactive table.\"\n",
              "            style=\"display:none;\">\n",
              "\n",
              "  <svg xmlns=\"http://www.w3.org/2000/svg\" height=\"24px\" viewBox=\"0 -960 960 960\">\n",
              "    <path d=\"M120-120v-720h720v720H120Zm60-500h600v-160H180v160Zm220 220h160v-160H400v160Zm0 220h160v-160H400v160ZM180-400h160v-160H180v160Zm440 0h160v-160H620v160ZM180-180h160v-160H180v160Zm440 0h160v-160H620v160Z\"/>\n",
              "  </svg>\n",
              "    </button>\n",
              "\n",
              "  <style>\n",
              "    .colab-df-container {\n",
              "      display:flex;\n",
              "      gap: 12px;\n",
              "    }\n",
              "\n",
              "    .colab-df-convert {\n",
              "      background-color: #E8F0FE;\n",
              "      border: none;\n",
              "      border-radius: 50%;\n",
              "      cursor: pointer;\n",
              "      display: none;\n",
              "      fill: #1967D2;\n",
              "      height: 32px;\n",
              "      padding: 0 0 0 0;\n",
              "      width: 32px;\n",
              "    }\n",
              "\n",
              "    .colab-df-convert:hover {\n",
              "      background-color: #E2EBFA;\n",
              "      box-shadow: 0px 1px 2px rgba(60, 64, 67, 0.3), 0px 1px 3px 1px rgba(60, 64, 67, 0.15);\n",
              "      fill: #174EA6;\n",
              "    }\n",
              "\n",
              "    .colab-df-buttons div {\n",
              "      margin-bottom: 4px;\n",
              "    }\n",
              "\n",
              "    [theme=dark] .colab-df-convert {\n",
              "      background-color: #3B4455;\n",
              "      fill: #D2E3FC;\n",
              "    }\n",
              "\n",
              "    [theme=dark] .colab-df-convert:hover {\n",
              "      background-color: #434B5C;\n",
              "      box-shadow: 0px 1px 3px 1px rgba(0, 0, 0, 0.15);\n",
              "      filter: drop-shadow(0px 1px 2px rgba(0, 0, 0, 0.3));\n",
              "      fill: #FFFFFF;\n",
              "    }\n",
              "  </style>\n",
              "\n",
              "    <script>\n",
              "      const buttonEl =\n",
              "        document.querySelector('#df-dfe2a138-68bc-4072-b383-4ec94d5c89e7 button.colab-df-convert');\n",
              "      buttonEl.style.display =\n",
              "        google.colab.kernel.accessAllowed ? 'block' : 'none';\n",
              "\n",
              "      async function convertToInteractive(key) {\n",
              "        const element = document.querySelector('#df-dfe2a138-68bc-4072-b383-4ec94d5c89e7');\n",
              "        const dataTable =\n",
              "          await google.colab.kernel.invokeFunction('convertToInteractive',\n",
              "                                                    [key], {});\n",
              "        if (!dataTable) return;\n",
              "\n",
              "        const docLinkHtml = 'Like what you see? Visit the ' +\n",
              "          '<a target=\"_blank\" href=https://colab.research.google.com/notebooks/data_table.ipynb>data table notebook</a>'\n",
              "          + ' to learn more about interactive tables.';\n",
              "        element.innerHTML = '';\n",
              "        dataTable['output_type'] = 'display_data';\n",
              "        await google.colab.output.renderOutput(dataTable, element);\n",
              "        const docLink = document.createElement('div');\n",
              "        docLink.innerHTML = docLinkHtml;\n",
              "        element.appendChild(docLink);\n",
              "      }\n",
              "    </script>\n",
              "  </div>\n",
              "\n",
              "\n",
              "    <div id=\"df-20ee1f21-59b0-410a-a548-59e2f3e844f7\">\n",
              "      <button class=\"colab-df-quickchart\" onclick=\"quickchart('df-20ee1f21-59b0-410a-a548-59e2f3e844f7')\"\n",
              "                title=\"Suggest charts\"\n",
              "                style=\"display:none;\">\n",
              "\n",
              "<svg xmlns=\"http://www.w3.org/2000/svg\" height=\"24px\"viewBox=\"0 0 24 24\"\n",
              "     width=\"24px\">\n",
              "    <g>\n",
              "        <path d=\"M19 3H5c-1.1 0-2 .9-2 2v14c0 1.1.9 2 2 2h14c1.1 0 2-.9 2-2V5c0-1.1-.9-2-2-2zM9 17H7v-7h2v7zm4 0h-2V7h2v10zm4 0h-2v-4h2v4z\"/>\n",
              "    </g>\n",
              "</svg>\n",
              "      </button>\n",
              "\n",
              "<style>\n",
              "  .colab-df-quickchart {\n",
              "      --bg-color: #E8F0FE;\n",
              "      --fill-color: #1967D2;\n",
              "      --hover-bg-color: #E2EBFA;\n",
              "      --hover-fill-color: #174EA6;\n",
              "      --disabled-fill-color: #AAA;\n",
              "      --disabled-bg-color: #DDD;\n",
              "  }\n",
              "\n",
              "  [theme=dark] .colab-df-quickchart {\n",
              "      --bg-color: #3B4455;\n",
              "      --fill-color: #D2E3FC;\n",
              "      --hover-bg-color: #434B5C;\n",
              "      --hover-fill-color: #FFFFFF;\n",
              "      --disabled-bg-color: #3B4455;\n",
              "      --disabled-fill-color: #666;\n",
              "  }\n",
              "\n",
              "  .colab-df-quickchart {\n",
              "    background-color: var(--bg-color);\n",
              "    border: none;\n",
              "    border-radius: 50%;\n",
              "    cursor: pointer;\n",
              "    display: none;\n",
              "    fill: var(--fill-color);\n",
              "    height: 32px;\n",
              "    padding: 0;\n",
              "    width: 32px;\n",
              "  }\n",
              "\n",
              "  .colab-df-quickchart:hover {\n",
              "    background-color: var(--hover-bg-color);\n",
              "    box-shadow: 0 1px 2px rgba(60, 64, 67, 0.3), 0 1px 3px 1px rgba(60, 64, 67, 0.15);\n",
              "    fill: var(--button-hover-fill-color);\n",
              "  }\n",
              "\n",
              "  .colab-df-quickchart-complete:disabled,\n",
              "  .colab-df-quickchart-complete:disabled:hover {\n",
              "    background-color: var(--disabled-bg-color);\n",
              "    fill: var(--disabled-fill-color);\n",
              "    box-shadow: none;\n",
              "  }\n",
              "\n",
              "  .colab-df-spinner {\n",
              "    border: 2px solid var(--fill-color);\n",
              "    border-color: transparent;\n",
              "    border-bottom-color: var(--fill-color);\n",
              "    animation:\n",
              "      spin 1s steps(1) infinite;\n",
              "  }\n",
              "\n",
              "  @keyframes spin {\n",
              "    0% {\n",
              "      border-color: transparent;\n",
              "      border-bottom-color: var(--fill-color);\n",
              "      border-left-color: var(--fill-color);\n",
              "    }\n",
              "    20% {\n",
              "      border-color: transparent;\n",
              "      border-left-color: var(--fill-color);\n",
              "      border-top-color: var(--fill-color);\n",
              "    }\n",
              "    30% {\n",
              "      border-color: transparent;\n",
              "      border-left-color: var(--fill-color);\n",
              "      border-top-color: var(--fill-color);\n",
              "      border-right-color: var(--fill-color);\n",
              "    }\n",
              "    40% {\n",
              "      border-color: transparent;\n",
              "      border-right-color: var(--fill-color);\n",
              "      border-top-color: var(--fill-color);\n",
              "    }\n",
              "    60% {\n",
              "      border-color: transparent;\n",
              "      border-right-color: var(--fill-color);\n",
              "    }\n",
              "    80% {\n",
              "      border-color: transparent;\n",
              "      border-right-color: var(--fill-color);\n",
              "      border-bottom-color: var(--fill-color);\n",
              "    }\n",
              "    90% {\n",
              "      border-color: transparent;\n",
              "      border-bottom-color: var(--fill-color);\n",
              "    }\n",
              "  }\n",
              "</style>\n",
              "\n",
              "      <script>\n",
              "        async function quickchart(key) {\n",
              "          const quickchartButtonEl =\n",
              "            document.querySelector('#' + key + ' button');\n",
              "          quickchartButtonEl.disabled = true;  // To prevent multiple clicks.\n",
              "          quickchartButtonEl.classList.add('colab-df-spinner');\n",
              "          try {\n",
              "            const charts = await google.colab.kernel.invokeFunction(\n",
              "                'suggestCharts', [key], {});\n",
              "          } catch (error) {\n",
              "            console.error('Error during call to suggestCharts:', error);\n",
              "          }\n",
              "          quickchartButtonEl.classList.remove('colab-df-spinner');\n",
              "          quickchartButtonEl.classList.add('colab-df-quickchart-complete');\n",
              "        }\n",
              "        (() => {\n",
              "          let quickchartButtonEl =\n",
              "            document.querySelector('#df-20ee1f21-59b0-410a-a548-59e2f3e844f7 button');\n",
              "          quickchartButtonEl.style.display =\n",
              "            google.colab.kernel.accessAllowed ? 'block' : 'none';\n",
              "        })();\n",
              "      </script>\n",
              "    </div>\n",
              "\n",
              "    </div>\n",
              "  </div>\n"
            ],
            "application/vnd.google.colaboratory.intrinsic+json": {
              "type": "dataframe",
              "variable_name": "df",
              "summary": "{\n  \"name\": \"df\",\n  \"rows\": 1338,\n  \"fields\": [\n    {\n      \"column\": \"age\",\n      \"properties\": {\n        \"dtype\": \"number\",\n        \"std\": 14,\n        \"min\": 18,\n        \"max\": 64,\n        \"num_unique_values\": 47,\n        \"samples\": [\n          21,\n          45,\n          36\n        ],\n        \"semantic_type\": \"\",\n        \"description\": \"\"\n      }\n    },\n    {\n      \"column\": \"sex\",\n      \"properties\": {\n        \"dtype\": \"category\",\n        \"num_unique_values\": 2,\n        \"samples\": [\n          \"male\",\n          \"female\"\n        ],\n        \"semantic_type\": \"\",\n        \"description\": \"\"\n      }\n    },\n    {\n      \"column\": \"bmi\",\n      \"properties\": {\n        \"dtype\": \"number\",\n        \"std\": 6.098186911679017,\n        \"min\": 15.96,\n        \"max\": 53.13,\n        \"num_unique_values\": 548,\n        \"samples\": [\n          23.18,\n          26.885\n        ],\n        \"semantic_type\": \"\",\n        \"description\": \"\"\n      }\n    },\n    {\n      \"column\": \"children\",\n      \"properties\": {\n        \"dtype\": \"number\",\n        \"std\": 1,\n        \"min\": 0,\n        \"max\": 5,\n        \"num_unique_values\": 6,\n        \"samples\": [\n          0,\n          1\n        ],\n        \"semantic_type\": \"\",\n        \"description\": \"\"\n      }\n    },\n    {\n      \"column\": \"smoker\",\n      \"properties\": {\n        \"dtype\": \"category\",\n        \"num_unique_values\": 2,\n        \"samples\": [\n          \"no\",\n          \"yes\"\n        ],\n        \"semantic_type\": \"\",\n        \"description\": \"\"\n      }\n    },\n    {\n      \"column\": \"region\",\n      \"properties\": {\n        \"dtype\": \"category\",\n        \"num_unique_values\": 4,\n        \"samples\": [\n          \"southeast\",\n          \"northeast\"\n        ],\n        \"semantic_type\": \"\",\n        \"description\": \"\"\n      }\n    },\n    {\n      \"column\": \"charges\",\n      \"properties\": {\n        \"dtype\": \"number\",\n        \"std\": 12110.011236693994,\n        \"min\": 1121.8739,\n        \"max\": 63770.42801,\n        \"num_unique_values\": 1337,\n        \"samples\": [\n          8688.85885,\n          5708.867\n        ],\n        \"semantic_type\": \"\",\n        \"description\": \"\"\n      }\n    }\n  ]\n}"
            }
          },
          "metadata": {},
          "execution_count": 67
        }
      ]
    },
    {
      "cell_type": "code",
      "source": [
        "df.info() # To know the data type of each column"
      ],
      "metadata": {
        "colab": {
          "base_uri": "https://localhost:8080/"
        },
        "id": "c47kAVWME6iU",
        "outputId": "2cfc822c-fee7-4792-ace2-315a93bea4bf"
      },
      "execution_count": null,
      "outputs": [
        {
          "output_type": "stream",
          "name": "stdout",
          "text": [
            "<class 'pandas.core.frame.DataFrame'>\n",
            "RangeIndex: 1338 entries, 0 to 1337\n",
            "Data columns (total 7 columns):\n",
            " #   Column    Non-Null Count  Dtype  \n",
            "---  ------    --------------  -----  \n",
            " 0   age       1338 non-null   int64  \n",
            " 1   sex       1338 non-null   object \n",
            " 2   bmi       1338 non-null   float64\n",
            " 3   children  1338 non-null   int64  \n",
            " 4   smoker    1338 non-null   object \n",
            " 5   region    1338 non-null   object \n",
            " 6   charges   1338 non-null   float64\n",
            "dtypes: float64(2), int64(2), object(3)\n",
            "memory usage: 73.3+ KB\n"
          ]
        }
      ]
    },
    {
      "cell_type": "code",
      "source": [
        "df.describe() # Gives quick statistical summary of the dataframe"
      ],
      "metadata": {
        "colab": {
          "base_uri": "https://localhost:8080/",
          "height": 300
        },
        "id": "t1acy3MVGGBd",
        "outputId": "7277c5c8-3962-4dcd-d0bd-63a36961758f"
      },
      "execution_count": null,
      "outputs": [
        {
          "output_type": "execute_result",
          "data": {
            "text/plain": [
              "               age          bmi     children       charges\n",
              "count  1338.000000  1338.000000  1338.000000   1338.000000\n",
              "mean     39.207025    30.663397     1.094918  13270.422265\n",
              "std      14.049960     6.098187     1.205493  12110.011237\n",
              "min      18.000000    15.960000     0.000000   1121.873900\n",
              "25%      27.000000    26.296250     0.000000   4740.287150\n",
              "50%      39.000000    30.400000     1.000000   9382.033000\n",
              "75%      51.000000    34.693750     2.000000  16639.912515\n",
              "max      64.000000    53.130000     5.000000  63770.428010"
            ],
            "text/html": [
              "\n",
              "  <div id=\"df-52d9bef5-09de-4b80-abd0-be372b69b1f2\" class=\"colab-df-container\">\n",
              "    <div>\n",
              "<style scoped>\n",
              "    .dataframe tbody tr th:only-of-type {\n",
              "        vertical-align: middle;\n",
              "    }\n",
              "\n",
              "    .dataframe tbody tr th {\n",
              "        vertical-align: top;\n",
              "    }\n",
              "\n",
              "    .dataframe thead th {\n",
              "        text-align: right;\n",
              "    }\n",
              "</style>\n",
              "<table border=\"1\" class=\"dataframe\">\n",
              "  <thead>\n",
              "    <tr style=\"text-align: right;\">\n",
              "      <th></th>\n",
              "      <th>age</th>\n",
              "      <th>bmi</th>\n",
              "      <th>children</th>\n",
              "      <th>charges</th>\n",
              "    </tr>\n",
              "  </thead>\n",
              "  <tbody>\n",
              "    <tr>\n",
              "      <th>count</th>\n",
              "      <td>1338.000000</td>\n",
              "      <td>1338.000000</td>\n",
              "      <td>1338.000000</td>\n",
              "      <td>1338.000000</td>\n",
              "    </tr>\n",
              "    <tr>\n",
              "      <th>mean</th>\n",
              "      <td>39.207025</td>\n",
              "      <td>30.663397</td>\n",
              "      <td>1.094918</td>\n",
              "      <td>13270.422265</td>\n",
              "    </tr>\n",
              "    <tr>\n",
              "      <th>std</th>\n",
              "      <td>14.049960</td>\n",
              "      <td>6.098187</td>\n",
              "      <td>1.205493</td>\n",
              "      <td>12110.011237</td>\n",
              "    </tr>\n",
              "    <tr>\n",
              "      <th>min</th>\n",
              "      <td>18.000000</td>\n",
              "      <td>15.960000</td>\n",
              "      <td>0.000000</td>\n",
              "      <td>1121.873900</td>\n",
              "    </tr>\n",
              "    <tr>\n",
              "      <th>25%</th>\n",
              "      <td>27.000000</td>\n",
              "      <td>26.296250</td>\n",
              "      <td>0.000000</td>\n",
              "      <td>4740.287150</td>\n",
              "    </tr>\n",
              "    <tr>\n",
              "      <th>50%</th>\n",
              "      <td>39.000000</td>\n",
              "      <td>30.400000</td>\n",
              "      <td>1.000000</td>\n",
              "      <td>9382.033000</td>\n",
              "    </tr>\n",
              "    <tr>\n",
              "      <th>75%</th>\n",
              "      <td>51.000000</td>\n",
              "      <td>34.693750</td>\n",
              "      <td>2.000000</td>\n",
              "      <td>16639.912515</td>\n",
              "    </tr>\n",
              "    <tr>\n",
              "      <th>max</th>\n",
              "      <td>64.000000</td>\n",
              "      <td>53.130000</td>\n",
              "      <td>5.000000</td>\n",
              "      <td>63770.428010</td>\n",
              "    </tr>\n",
              "  </tbody>\n",
              "</table>\n",
              "</div>\n",
              "    <div class=\"colab-df-buttons\">\n",
              "\n",
              "  <div class=\"colab-df-container\">\n",
              "    <button class=\"colab-df-convert\" onclick=\"convertToInteractive('df-52d9bef5-09de-4b80-abd0-be372b69b1f2')\"\n",
              "            title=\"Convert this dataframe to an interactive table.\"\n",
              "            style=\"display:none;\">\n",
              "\n",
              "  <svg xmlns=\"http://www.w3.org/2000/svg\" height=\"24px\" viewBox=\"0 -960 960 960\">\n",
              "    <path d=\"M120-120v-720h720v720H120Zm60-500h600v-160H180v160Zm220 220h160v-160H400v160Zm0 220h160v-160H400v160ZM180-400h160v-160H180v160Zm440 0h160v-160H620v160ZM180-180h160v-160H180v160Zm440 0h160v-160H620v160Z\"/>\n",
              "  </svg>\n",
              "    </button>\n",
              "\n",
              "  <style>\n",
              "    .colab-df-container {\n",
              "      display:flex;\n",
              "      gap: 12px;\n",
              "    }\n",
              "\n",
              "    .colab-df-convert {\n",
              "      background-color: #E8F0FE;\n",
              "      border: none;\n",
              "      border-radius: 50%;\n",
              "      cursor: pointer;\n",
              "      display: none;\n",
              "      fill: #1967D2;\n",
              "      height: 32px;\n",
              "      padding: 0 0 0 0;\n",
              "      width: 32px;\n",
              "    }\n",
              "\n",
              "    .colab-df-convert:hover {\n",
              "      background-color: #E2EBFA;\n",
              "      box-shadow: 0px 1px 2px rgba(60, 64, 67, 0.3), 0px 1px 3px 1px rgba(60, 64, 67, 0.15);\n",
              "      fill: #174EA6;\n",
              "    }\n",
              "\n",
              "    .colab-df-buttons div {\n",
              "      margin-bottom: 4px;\n",
              "    }\n",
              "\n",
              "    [theme=dark] .colab-df-convert {\n",
              "      background-color: #3B4455;\n",
              "      fill: #D2E3FC;\n",
              "    }\n",
              "\n",
              "    [theme=dark] .colab-df-convert:hover {\n",
              "      background-color: #434B5C;\n",
              "      box-shadow: 0px 1px 3px 1px rgba(0, 0, 0, 0.15);\n",
              "      filter: drop-shadow(0px 1px 2px rgba(0, 0, 0, 0.3));\n",
              "      fill: #FFFFFF;\n",
              "    }\n",
              "  </style>\n",
              "\n",
              "    <script>\n",
              "      const buttonEl =\n",
              "        document.querySelector('#df-52d9bef5-09de-4b80-abd0-be372b69b1f2 button.colab-df-convert');\n",
              "      buttonEl.style.display =\n",
              "        google.colab.kernel.accessAllowed ? 'block' : 'none';\n",
              "\n",
              "      async function convertToInteractive(key) {\n",
              "        const element = document.querySelector('#df-52d9bef5-09de-4b80-abd0-be372b69b1f2');\n",
              "        const dataTable =\n",
              "          await google.colab.kernel.invokeFunction('convertToInteractive',\n",
              "                                                    [key], {});\n",
              "        if (!dataTable) return;\n",
              "\n",
              "        const docLinkHtml = 'Like what you see? Visit the ' +\n",
              "          '<a target=\"_blank\" href=https://colab.research.google.com/notebooks/data_table.ipynb>data table notebook</a>'\n",
              "          + ' to learn more about interactive tables.';\n",
              "        element.innerHTML = '';\n",
              "        dataTable['output_type'] = 'display_data';\n",
              "        await google.colab.output.renderOutput(dataTable, element);\n",
              "        const docLink = document.createElement('div');\n",
              "        docLink.innerHTML = docLinkHtml;\n",
              "        element.appendChild(docLink);\n",
              "      }\n",
              "    </script>\n",
              "  </div>\n",
              "\n",
              "\n",
              "    <div id=\"df-2358e08e-faf2-4350-9e14-c5b38afc536c\">\n",
              "      <button class=\"colab-df-quickchart\" onclick=\"quickchart('df-2358e08e-faf2-4350-9e14-c5b38afc536c')\"\n",
              "                title=\"Suggest charts\"\n",
              "                style=\"display:none;\">\n",
              "\n",
              "<svg xmlns=\"http://www.w3.org/2000/svg\" height=\"24px\"viewBox=\"0 0 24 24\"\n",
              "     width=\"24px\">\n",
              "    <g>\n",
              "        <path d=\"M19 3H5c-1.1 0-2 .9-2 2v14c0 1.1.9 2 2 2h14c1.1 0 2-.9 2-2V5c0-1.1-.9-2-2-2zM9 17H7v-7h2v7zm4 0h-2V7h2v10zm4 0h-2v-4h2v4z\"/>\n",
              "    </g>\n",
              "</svg>\n",
              "      </button>\n",
              "\n",
              "<style>\n",
              "  .colab-df-quickchart {\n",
              "      --bg-color: #E8F0FE;\n",
              "      --fill-color: #1967D2;\n",
              "      --hover-bg-color: #E2EBFA;\n",
              "      --hover-fill-color: #174EA6;\n",
              "      --disabled-fill-color: #AAA;\n",
              "      --disabled-bg-color: #DDD;\n",
              "  }\n",
              "\n",
              "  [theme=dark] .colab-df-quickchart {\n",
              "      --bg-color: #3B4455;\n",
              "      --fill-color: #D2E3FC;\n",
              "      --hover-bg-color: #434B5C;\n",
              "      --hover-fill-color: #FFFFFF;\n",
              "      --disabled-bg-color: #3B4455;\n",
              "      --disabled-fill-color: #666;\n",
              "  }\n",
              "\n",
              "  .colab-df-quickchart {\n",
              "    background-color: var(--bg-color);\n",
              "    border: none;\n",
              "    border-radius: 50%;\n",
              "    cursor: pointer;\n",
              "    display: none;\n",
              "    fill: var(--fill-color);\n",
              "    height: 32px;\n",
              "    padding: 0;\n",
              "    width: 32px;\n",
              "  }\n",
              "\n",
              "  .colab-df-quickchart:hover {\n",
              "    background-color: var(--hover-bg-color);\n",
              "    box-shadow: 0 1px 2px rgba(60, 64, 67, 0.3), 0 1px 3px 1px rgba(60, 64, 67, 0.15);\n",
              "    fill: var(--button-hover-fill-color);\n",
              "  }\n",
              "\n",
              "  .colab-df-quickchart-complete:disabled,\n",
              "  .colab-df-quickchart-complete:disabled:hover {\n",
              "    background-color: var(--disabled-bg-color);\n",
              "    fill: var(--disabled-fill-color);\n",
              "    box-shadow: none;\n",
              "  }\n",
              "\n",
              "  .colab-df-spinner {\n",
              "    border: 2px solid var(--fill-color);\n",
              "    border-color: transparent;\n",
              "    border-bottom-color: var(--fill-color);\n",
              "    animation:\n",
              "      spin 1s steps(1) infinite;\n",
              "  }\n",
              "\n",
              "  @keyframes spin {\n",
              "    0% {\n",
              "      border-color: transparent;\n",
              "      border-bottom-color: var(--fill-color);\n",
              "      border-left-color: var(--fill-color);\n",
              "    }\n",
              "    20% {\n",
              "      border-color: transparent;\n",
              "      border-left-color: var(--fill-color);\n",
              "      border-top-color: var(--fill-color);\n",
              "    }\n",
              "    30% {\n",
              "      border-color: transparent;\n",
              "      border-left-color: var(--fill-color);\n",
              "      border-top-color: var(--fill-color);\n",
              "      border-right-color: var(--fill-color);\n",
              "    }\n",
              "    40% {\n",
              "      border-color: transparent;\n",
              "      border-right-color: var(--fill-color);\n",
              "      border-top-color: var(--fill-color);\n",
              "    }\n",
              "    60% {\n",
              "      border-color: transparent;\n",
              "      border-right-color: var(--fill-color);\n",
              "    }\n",
              "    80% {\n",
              "      border-color: transparent;\n",
              "      border-right-color: var(--fill-color);\n",
              "      border-bottom-color: var(--fill-color);\n",
              "    }\n",
              "    90% {\n",
              "      border-color: transparent;\n",
              "      border-bottom-color: var(--fill-color);\n",
              "    }\n",
              "  }\n",
              "</style>\n",
              "\n",
              "      <script>\n",
              "        async function quickchart(key) {\n",
              "          const quickchartButtonEl =\n",
              "            document.querySelector('#' + key + ' button');\n",
              "          quickchartButtonEl.disabled = true;  // To prevent multiple clicks.\n",
              "          quickchartButtonEl.classList.add('colab-df-spinner');\n",
              "          try {\n",
              "            const charts = await google.colab.kernel.invokeFunction(\n",
              "                'suggestCharts', [key], {});\n",
              "          } catch (error) {\n",
              "            console.error('Error during call to suggestCharts:', error);\n",
              "          }\n",
              "          quickchartButtonEl.classList.remove('colab-df-spinner');\n",
              "          quickchartButtonEl.classList.add('colab-df-quickchart-complete');\n",
              "        }\n",
              "        (() => {\n",
              "          let quickchartButtonEl =\n",
              "            document.querySelector('#df-2358e08e-faf2-4350-9e14-c5b38afc536c button');\n",
              "          quickchartButtonEl.style.display =\n",
              "            google.colab.kernel.accessAllowed ? 'block' : 'none';\n",
              "        })();\n",
              "      </script>\n",
              "    </div>\n",
              "\n",
              "    </div>\n",
              "  </div>\n"
            ],
            "application/vnd.google.colaboratory.intrinsic+json": {
              "type": "dataframe",
              "summary": "{\n  \"name\": \"df\",\n  \"rows\": 8,\n  \"fields\": [\n    {\n      \"column\": \"age\",\n      \"properties\": {\n        \"dtype\": \"number\",\n        \"std\": 460.6106090399993,\n        \"min\": 14.049960379216172,\n        \"max\": 1338.0,\n        \"num_unique_values\": 8,\n        \"samples\": [\n          39.20702541106129,\n          39.0,\n          1338.0\n        ],\n        \"semantic_type\": \"\",\n        \"description\": \"\"\n      }\n    },\n    {\n      \"column\": \"bmi\",\n      \"properties\": {\n        \"dtype\": \"number\",\n        \"std\": 463.29524977918294,\n        \"min\": 6.098186911679017,\n        \"max\": 1338.0,\n        \"num_unique_values\": 8,\n        \"samples\": [\n          30.66339686098655,\n          30.4,\n          1338.0\n        ],\n        \"semantic_type\": \"\",\n        \"description\": \"\"\n      }\n    },\n    {\n      \"column\": \"children\",\n      \"properties\": {\n        \"dtype\": \"number\",\n        \"std\": 472.5368318870757,\n        \"min\": 0.0,\n        \"max\": 1338.0,\n        \"num_unique_values\": 7,\n        \"samples\": [\n          1338.0,\n          1.0949177877429,\n          2.0\n        ],\n        \"semantic_type\": \"\",\n        \"description\": \"\"\n      }\n    },\n    {\n      \"column\": \"charges\",\n      \"properties\": {\n        \"dtype\": \"number\",\n        \"std\": 20381.922846226596,\n        \"min\": 1121.8739,\n        \"max\": 63770.42801,\n        \"num_unique_values\": 8,\n        \"samples\": [\n          13270.422265141257,\n          9382.033,\n          1338.0\n        ],\n        \"semantic_type\": \"\",\n        \"description\": \"\"\n      }\n    }\n  ]\n}"
            }
          },
          "metadata": {},
          "execution_count": 69
        }
      ]
    },
    {
      "cell_type": "markdown",
      "source": [
        "## Pre-processing for Model Training"
      ],
      "metadata": {
        "id": "Apufv9wwHl2r"
      }
    },
    {
      "cell_type": "code",
      "source": [
        "import torch\n",
        "import torch.nn as nn\n",
        "import numpy as np\n",
        "import torch.optim as optim\n",
        "from sklearn.preprocessing import LabelEncoder, StandardScaler\n",
        "from sklearn.model_selection import train_test_split # for splitting traning and testing\n",
        "import matplotlib.pyplot as plt # This is for plotting the ideal fit line\n",
        "import seaborn as sns # This is a prettier wrapper over the matpotlib library"
      ],
      "metadata": {
        "id": "wUH9cd41GpfK"
      },
      "execution_count": 116,
      "outputs": []
    },
    {
      "cell_type": "code",
      "source": [
        "# Split dataset before encoding\n",
        "'''\n",
        "We split before encoding because with the training set we will train our labelEncoder and with the\n",
        "testing set we will perform transform on the labelEncoder we have created\n",
        "'''\n",
        "train_df, test_df = train_test_split(df, test_size=0.2, random_state=42 )"
      ],
      "metadata": {
        "id": "bLxk7rajILV7"
      },
      "execution_count": 90,
      "outputs": []
    },
    {
      "cell_type": "code",
      "source": [
        "# Now we will encode our categorical variable\n",
        "label_encoder = {}\n",
        "for col in ['sex', 'smoker', 'region']:\n",
        "  le = LabelEncoder()\n",
        "  train_df[col] = le.fit_transform(train_df[col])\n",
        "  test_df[col] = le.transform(test_df[col])\n",
        "  label_encoder[col] = le"
      ],
      "metadata": {
        "id": "xVC3XXecJNdd"
      },
      "execution_count": 91,
      "outputs": []
    },
    {
      "cell_type": "code",
      "source": [
        "# Features and target\n",
        "X_train = train_df.drop(columns = ['charges'])\n",
        "Y_train = train_df['charges']\n",
        "\n",
        "X_test = test_df.drop(columns = ['charges'])\n",
        "Y_test = test_df['charges']"
      ],
      "metadata": {
        "id": "n3asvjUIYj-7"
      },
      "execution_count": 92,
      "outputs": []
    },
    {
      "cell_type": "code",
      "source": [
        "print(X_train.head())\n",
        "print(Y_train.head())"
      ],
      "metadata": {
        "colab": {
          "base_uri": "https://localhost:8080/"
        },
        "id": "vc8cUCmWa6bF",
        "outputId": "3fb4e1b5-5dd7-41fb-928d-17875aeb863b"
      },
      "execution_count": 93,
      "outputs": [
        {
          "output_type": "stream",
          "name": "stdout",
          "text": [
            "      age  sex    bmi  children  smoker  region\n",
            "560    46    0  19.95         2       0       1\n",
            "1285   47    0  24.32         0       0       0\n",
            "1142   52    0  24.86         0       0       2\n",
            "969    39    0  34.32         5       0       2\n",
            "486    54    0  21.47         3       0       1\n",
            "560      9193.83850\n",
            "1285     8534.67180\n",
            "1142    27117.99378\n",
            "969      8596.82780\n",
            "486     12475.35130\n",
            "Name: charges, dtype: float64\n"
          ]
        }
      ]
    },
    {
      "cell_type": "code",
      "source": [
        "# Normalise the features to increase the computation calculations\n",
        "scaler = StandardScaler()\n",
        "X_train = scaler.fit_transform(X_train)\n",
        "X_test = scaler.transform(X_test) # Assign the scaled result back to X_test\n",
        "print(X_train)"
      ],
      "metadata": {
        "colab": {
          "base_uri": "https://localhost:8080/"
        },
        "id": "Yfnq1kaBd84g",
        "outputId": "18252ede-ef71-4384-9421-fcc336feedac"
      },
      "execution_count": 94,
      "outputs": [
        {
          "output_type": "stream",
          "name": "stdout",
          "text": [
            "[[ 0.47222651 -1.0246016  -1.75652513  0.73433626 -0.50874702 -0.45611589]\n",
            " [ 0.54331294 -1.0246016  -1.03308239 -0.91119211 -0.50874702 -1.35325561]\n",
            " [ 0.8987451  -1.0246016  -0.94368672 -0.91119211 -0.50874702  0.44102382]\n",
            " ...\n",
            " [ 1.3252637   0.97598911 -0.89153925 -0.91119211 -0.50874702 -1.35325561]\n",
            " [-0.16755139 -1.0246016   2.82086429  0.73433626  1.96561348  1.33816354]\n",
            " [ 1.1120044   0.97598911 -0.10932713 -0.91119211 -0.50874702  1.33816354]]\n"
          ]
        }
      ]
    },
    {
      "cell_type": "markdown",
      "source": [
        "Now we will convert this into tensor because the pytorch model does not work with numpy or pandas it only works with tensors"
      ],
      "metadata": {
        "id": "o3qSSHtbeiMW"
      }
    },
    {
      "cell_type": "code",
      "source": [
        "X_train_tensor = torch.tensor(X_train, dtype= torch.float32)\n",
        "Y_train_tensor = torch.tensor(Y_train.values, dtype= torch.float32).view(-1,1) # This is to flatten it\n",
        "X_test_tensor = torch.tensor(X_test, dtype= torch.float32) # X_test is now a NumPy array\n",
        "Y_test_tensor = torch.tensor(Y_test.values, dtype= torch.float32).view(-1,1)  # Values is for getting value not pandas"
      ],
      "metadata": {
        "id": "GIQz-I9SeOa1"
      },
      "execution_count": 95,
      "outputs": []
    },
    {
      "cell_type": "code",
      "source": [
        "print(Y_train_tensor.shape)\n",
        "print(X_test_tensor.shape)"
      ],
      "metadata": {
        "colab": {
          "base_uri": "https://localhost:8080/"
        },
        "id": "4LFq6CijrOwI",
        "outputId": "92e8060d-ea35-4366-b03d-02383cf8cb7a"
      },
      "execution_count": 96,
      "outputs": [
        {
          "output_type": "stream",
          "name": "stdout",
          "text": [
            "torch.Size([1070, 1])\n",
            "torch.Size([268, 6])\n"
          ]
        }
      ]
    },
    {
      "cell_type": "markdown",
      "source": [
        "#### Defining Neural Network"
      ],
      "metadata": {
        "id": "zzxhVxQmzB4V"
      }
    },
    {
      "cell_type": "code",
      "source": [
        "class SimpleNNregression(nn.Module):\n",
        "  def __init__(self, input_dim):\n",
        "    super(SimpleNNregression, self).__init__()\n",
        "    self.network = nn.Sequential(\n",
        "        nn.Linear(input_dim, 64),\n",
        "        nn.ReLU(),\n",
        "        nn.Linear(64,128),\n",
        "        nn.ReLU(),\n",
        "        nn.Linear(128, 1)\n",
        "    )\n",
        "\n",
        "  def forward(self, x):\n",
        "    return self.network(x)\n"
      ],
      "metadata": {
        "id": "c7iT1j61y6Zo"
      },
      "execution_count": 97,
      "outputs": []
    },
    {
      "cell_type": "markdown",
      "source": [
        "This makes the blueprint of our model"
      ],
      "metadata": {
        "id": "7aIC9c7g0DrI"
      }
    },
    {
      "cell_type": "markdown",
      "source": [
        "Now we will use the blueprint to create and initilaise the model"
      ],
      "metadata": {
        "id": "yUL4phGU0KZo"
      }
    },
    {
      "cell_type": "code",
      "source": [
        "input_dimension = X_train_tensor.shape[1]\n",
        "model = SimpleNNregression(input_dimension)\n",
        "print(model)"
      ],
      "metadata": {
        "colab": {
          "base_uri": "https://localhost:8080/"
        },
        "id": "nase1KsJ0BPa",
        "outputId": "80b756ad-5032-45be-a860-97999d0f023b"
      },
      "execution_count": 98,
      "outputs": [
        {
          "output_type": "stream",
          "name": "stdout",
          "text": [
            "SimpleNNregression(\n",
            "  (network): Sequential(\n",
            "    (0): Linear(in_features=6, out_features=64, bias=True)\n",
            "    (1): ReLU()\n",
            "    (2): Linear(in_features=64, out_features=128, bias=True)\n",
            "    (3): ReLU()\n",
            "    (4): Linear(in_features=128, out_features=1, bias=True)\n",
            "  )\n",
            ")\n"
          ]
        }
      ]
    },
    {
      "cell_type": "code",
      "source": [
        "criterion = nn.MSELoss()\n",
        "optimiser = optim.Adam(model.parameters(), lr = 0.01)"
      ],
      "metadata": {
        "id": "_K75cLVN0_w9"
      },
      "execution_count": 99,
      "outputs": []
    },
    {
      "cell_type": "code",
      "source": [
        "# Training loop\n",
        "epochs = 33500\n",
        "\n",
        "for epoch in range(epochs):\n",
        "  model.train() # model.train() is used to train the model and model.eval() is used to test the model\n",
        "  optimiser.zero_grad()\n",
        "  predictions = model(X_train_tensor)\n",
        "  loss = criterion(predictions, Y_train_tensor)\n",
        "  loss.backward()\n",
        "\n",
        "  optimiser.step()\n",
        "\n",
        "  if (epoch+1) % 100 == 0:\n",
        "    print(f'Epoch [{epoch+1}/{epochs}], Loss: {loss.item():.4f}')"
      ],
      "metadata": {
        "colab": {
          "base_uri": "https://localhost:8080/"
        },
        "id": "A8dVBISQ0obz",
        "outputId": "42bba72d-0961-4848-8bba-7f6fea3c837b"
      },
      "execution_count": 100,
      "outputs": [
        {
          "output_type": "stream",
          "name": "stdout",
          "text": [
            "Epoch [100/33500], Loss: 45345040.0000\n",
            "Epoch [200/33500], Loss: 32617232.0000\n",
            "Epoch [300/33500], Loss: 30182882.0000\n",
            "Epoch [400/33500], Loss: 27821516.0000\n",
            "Epoch [500/33500], Loss: 26364396.0000\n",
            "Epoch [600/33500], Loss: 25561452.0000\n",
            "Epoch [700/33500], Loss: 25004682.0000\n",
            "Epoch [800/33500], Loss: 24476466.0000\n",
            "Epoch [900/33500], Loss: 24009968.0000\n",
            "Epoch [1000/33500], Loss: 23625664.0000\n",
            "Epoch [1100/33500], Loss: 23311248.0000\n",
            "Epoch [1200/33500], Loss: 23047824.0000\n",
            "Epoch [1300/33500], Loss: 22829862.0000\n",
            "Epoch [1400/33500], Loss: 22654984.0000\n",
            "Epoch [1500/33500], Loss: 22498628.0000\n",
            "Epoch [1600/33500], Loss: 22285562.0000\n",
            "Epoch [1700/33500], Loss: 21970194.0000\n",
            "Epoch [1800/33500], Loss: 21620906.0000\n",
            "Epoch [1900/33500], Loss: 21350450.0000\n",
            "Epoch [2000/33500], Loss: 21115522.0000\n",
            "Epoch [2100/33500], Loss: 20880080.0000\n",
            "Epoch [2200/33500], Loss: 20653450.0000\n",
            "Epoch [2300/33500], Loss: 20419146.0000\n",
            "Epoch [2400/33500], Loss: 20157774.0000\n",
            "Epoch [2500/33500], Loss: 19936610.0000\n",
            "Epoch [2600/33500], Loss: 19678674.0000\n",
            "Epoch [2700/33500], Loss: 19399578.0000\n",
            "Epoch [2800/33500], Loss: 19100880.0000\n",
            "Epoch [2900/33500], Loss: 18813240.0000\n",
            "Epoch [3000/33500], Loss: 18485942.0000\n",
            "Epoch [3100/33500], Loss: 18252140.0000\n",
            "Epoch [3200/33500], Loss: 18022270.0000\n",
            "Epoch [3300/33500], Loss: 17780836.0000\n",
            "Epoch [3400/33500], Loss: 17534104.0000\n",
            "Epoch [3500/33500], Loss: 17349384.0000\n",
            "Epoch [3600/33500], Loss: 17158364.0000\n",
            "Epoch [3700/33500], Loss: 16993896.0000\n",
            "Epoch [3800/33500], Loss: 16821990.0000\n",
            "Epoch [3900/33500], Loss: 16611602.0000\n",
            "Epoch [4000/33500], Loss: 16388117.0000\n",
            "Epoch [4100/33500], Loss: 16180230.0000\n",
            "Epoch [4200/33500], Loss: 15928282.0000\n",
            "Epoch [4300/33500], Loss: 15656713.0000\n",
            "Epoch [4400/33500], Loss: 15421752.0000\n",
            "Epoch [4500/33500], Loss: 15189779.0000\n",
            "Epoch [4600/33500], Loss: 14971596.0000\n",
            "Epoch [4700/33500], Loss: 14740644.0000\n",
            "Epoch [4800/33500], Loss: 14545291.0000\n",
            "Epoch [4900/33500], Loss: 14317873.0000\n",
            "Epoch [5000/33500], Loss: 14101944.0000\n",
            "Epoch [5100/33500], Loss: 13911986.0000\n",
            "Epoch [5200/33500], Loss: 13738901.0000\n",
            "Epoch [5300/33500], Loss: 13491688.0000\n",
            "Epoch [5400/33500], Loss: 13274392.0000\n",
            "Epoch [5500/33500], Loss: 13064366.0000\n",
            "Epoch [5600/33500], Loss: 12895298.0000\n",
            "Epoch [5700/33500], Loss: 12658985.0000\n",
            "Epoch [5800/33500], Loss: 12464529.0000\n",
            "Epoch [5900/33500], Loss: 12263188.0000\n",
            "Epoch [6000/33500], Loss: 12084807.0000\n",
            "Epoch [6100/33500], Loss: 11914340.0000\n",
            "Epoch [6200/33500], Loss: 11731918.0000\n",
            "Epoch [6300/33500], Loss: 11584031.0000\n",
            "Epoch [6400/33500], Loss: 11423560.0000\n",
            "Epoch [6500/33500], Loss: 11265104.0000\n",
            "Epoch [6600/33500], Loss: 11118737.0000\n",
            "Epoch [6700/33500], Loss: 10959511.0000\n",
            "Epoch [6800/33500], Loss: 10836893.0000\n",
            "Epoch [6900/33500], Loss: 10726449.0000\n",
            "Epoch [7000/33500], Loss: 10595037.0000\n",
            "Epoch [7100/33500], Loss: 10520809.0000\n",
            "Epoch [7200/33500], Loss: 10419641.0000\n",
            "Epoch [7300/33500], Loss: 10320962.0000\n",
            "Epoch [7400/33500], Loss: 10223541.0000\n",
            "Epoch [7500/33500], Loss: 10129075.0000\n",
            "Epoch [7600/33500], Loss: 10052231.0000\n",
            "Epoch [7700/33500], Loss: 9981129.0000\n",
            "Epoch [7800/33500], Loss: 9914852.0000\n",
            "Epoch [7900/33500], Loss: 9851426.0000\n",
            "Epoch [8000/33500], Loss: 9787101.0000\n",
            "Epoch [8100/33500], Loss: 9715089.0000\n",
            "Epoch [8200/33500], Loss: 9637122.0000\n",
            "Epoch [8300/33500], Loss: 9565057.0000\n",
            "Epoch [8400/33500], Loss: 9484841.0000\n",
            "Epoch [8500/33500], Loss: 9416721.0000\n",
            "Epoch [8600/33500], Loss: 9382189.0000\n",
            "Epoch [8700/33500], Loss: 9296869.0000\n",
            "Epoch [8800/33500], Loss: 9250630.0000\n",
            "Epoch [8900/33500], Loss: 9203315.0000\n",
            "Epoch [9000/33500], Loss: 9149512.0000\n",
            "Epoch [9100/33500], Loss: 9108489.0000\n",
            "Epoch [9200/33500], Loss: 9069223.0000\n",
            "Epoch [9300/33500], Loss: 9028147.0000\n",
            "Epoch [9400/33500], Loss: 8992136.0000\n",
            "Epoch [9500/33500], Loss: 8936478.0000\n",
            "Epoch [9600/33500], Loss: 8901705.0000\n",
            "Epoch [9700/33500], Loss: 8869461.0000\n",
            "Epoch [9800/33500], Loss: 8843362.0000\n",
            "Epoch [9900/33500], Loss: 8808488.0000\n",
            "Epoch [10000/33500], Loss: 8780365.0000\n",
            "Epoch [10100/33500], Loss: 8723455.0000\n",
            "Epoch [10200/33500], Loss: 8697809.0000\n",
            "Epoch [10300/33500], Loss: 8627078.0000\n",
            "Epoch [10400/33500], Loss: 8585784.0000\n",
            "Epoch [10500/33500], Loss: 8553479.0000\n",
            "Epoch [10600/33500], Loss: 8522575.0000\n",
            "Epoch [10700/33500], Loss: 8493055.0000\n",
            "Epoch [10800/33500], Loss: 8468400.0000\n",
            "Epoch [10900/33500], Loss: 8442022.0000\n",
            "Epoch [11000/33500], Loss: 8406891.0000\n",
            "Epoch [11100/33500], Loss: 8375193.5000\n",
            "Epoch [11200/33500], Loss: 8342531.0000\n",
            "Epoch [11300/33500], Loss: 8313064.5000\n",
            "Epoch [11400/33500], Loss: 8286538.0000\n",
            "Epoch [11500/33500], Loss: 8268258.5000\n",
            "Epoch [11600/33500], Loss: 8237973.0000\n",
            "Epoch [11700/33500], Loss: 8213813.0000\n",
            "Epoch [11800/33500], Loss: 8190857.5000\n",
            "Epoch [11900/33500], Loss: 8167653.5000\n",
            "Epoch [12000/33500], Loss: 8145881.0000\n",
            "Epoch [12100/33500], Loss: 8109737.5000\n",
            "Epoch [12200/33500], Loss: 8066588.5000\n",
            "Epoch [12300/33500], Loss: 8049530.0000\n",
            "Epoch [12400/33500], Loss: 8002103.5000\n",
            "Epoch [12500/33500], Loss: 7969042.0000\n",
            "Epoch [12600/33500], Loss: 7947037.0000\n",
            "Epoch [12700/33500], Loss: 7927248.0000\n",
            "Epoch [12800/33500], Loss: 7912198.5000\n",
            "Epoch [12900/33500], Loss: 7894286.0000\n",
            "Epoch [13000/33500], Loss: 7870508.0000\n",
            "Epoch [13100/33500], Loss: 7842371.5000\n",
            "Epoch [13200/33500], Loss: 7831301.5000\n",
            "Epoch [13300/33500], Loss: 7813902.0000\n",
            "Epoch [13400/33500], Loss: 7784997.5000\n",
            "Epoch [13500/33500], Loss: 7769137.0000\n",
            "Epoch [13600/33500], Loss: 7752607.5000\n",
            "Epoch [13700/33500], Loss: 7742028.5000\n",
            "Epoch [13800/33500], Loss: 7732327.5000\n",
            "Epoch [13900/33500], Loss: 7749654.0000\n",
            "Epoch [14000/33500], Loss: 7700733.5000\n",
            "Epoch [14100/33500], Loss: 7678192.5000\n",
            "Epoch [14200/33500], Loss: 7662697.5000\n",
            "Epoch [14300/33500], Loss: 7649780.0000\n",
            "Epoch [14400/33500], Loss: 7634185.5000\n",
            "Epoch [14500/33500], Loss: 7623849.5000\n",
            "Epoch [14600/33500], Loss: 7606843.0000\n",
            "Epoch [14700/33500], Loss: 7591992.5000\n",
            "Epoch [14800/33500], Loss: 7584334.5000\n",
            "Epoch [14900/33500], Loss: 7577572.0000\n",
            "Epoch [15000/33500], Loss: 7563879.0000\n",
            "Epoch [15100/33500], Loss: 7538795.0000\n",
            "Epoch [15200/33500], Loss: 7526030.0000\n",
            "Epoch [15300/33500], Loss: 7510715.5000\n",
            "Epoch [15400/33500], Loss: 7498511.5000\n",
            "Epoch [15500/33500], Loss: 7485234.0000\n",
            "Epoch [15600/33500], Loss: 7478392.0000\n",
            "Epoch [15700/33500], Loss: 7469803.0000\n",
            "Epoch [15800/33500], Loss: 7461669.0000\n",
            "Epoch [15900/33500], Loss: 7439543.0000\n",
            "Epoch [16000/33500], Loss: 7421868.5000\n",
            "Epoch [16100/33500], Loss: 7414866.5000\n",
            "Epoch [16200/33500], Loss: 7385634.5000\n",
            "Epoch [16300/33500], Loss: 7379985.0000\n",
            "Epoch [16400/33500], Loss: 7363737.5000\n",
            "Epoch [16500/33500], Loss: 7342861.0000\n",
            "Epoch [16600/33500], Loss: 7325569.5000\n",
            "Epoch [16700/33500], Loss: 7305689.5000\n",
            "Epoch [16800/33500], Loss: 7304084.0000\n",
            "Epoch [16900/33500], Loss: 7283107.5000\n",
            "Epoch [17000/33500], Loss: 7294205.0000\n",
            "Epoch [17100/33500], Loss: 7270546.0000\n",
            "Epoch [17200/33500], Loss: 7270649.0000\n",
            "Epoch [17300/33500], Loss: 7227530.0000\n",
            "Epoch [17400/33500], Loss: 7235467.0000\n",
            "Epoch [17500/33500], Loss: 7216455.5000\n",
            "Epoch [17600/33500], Loss: 7201585.0000\n",
            "Epoch [17700/33500], Loss: 7182922.5000\n",
            "Epoch [17800/33500], Loss: 7160726.0000\n",
            "Epoch [17900/33500], Loss: 7165034.0000\n",
            "Epoch [18000/33500], Loss: 7170560.0000\n",
            "Epoch [18100/33500], Loss: 7131816.0000\n",
            "Epoch [18200/33500], Loss: 7126422.0000\n",
            "Epoch [18300/33500], Loss: 7107297.5000\n",
            "Epoch [18400/33500], Loss: 7082891.0000\n",
            "Epoch [18500/33500], Loss: 7074909.5000\n",
            "Epoch [18600/33500], Loss: 7057095.5000\n",
            "Epoch [18700/33500], Loss: 7043232.0000\n",
            "Epoch [18800/33500], Loss: 7023001.5000\n",
            "Epoch [18900/33500], Loss: 7020732.5000\n",
            "Epoch [19000/33500], Loss: 7015750.0000\n",
            "Epoch [19100/33500], Loss: 7007273.0000\n",
            "Epoch [19200/33500], Loss: 7001799.0000\n",
            "Epoch [19300/33500], Loss: 6988462.5000\n",
            "Epoch [19400/33500], Loss: 6964089.5000\n",
            "Epoch [19500/33500], Loss: 6948622.0000\n",
            "Epoch [19600/33500], Loss: 6951696.5000\n",
            "Epoch [19700/33500], Loss: 6944543.5000\n",
            "Epoch [19800/33500], Loss: 6915309.0000\n",
            "Epoch [19900/33500], Loss: 6909155.0000\n",
            "Epoch [20000/33500], Loss: 6919639.5000\n",
            "Epoch [20100/33500], Loss: 6879889.0000\n",
            "Epoch [20200/33500], Loss: 6876374.5000\n",
            "Epoch [20300/33500], Loss: 6803835.0000\n",
            "Epoch [20400/33500], Loss: 6759808.0000\n",
            "Epoch [20500/33500], Loss: 6733273.0000\n",
            "Epoch [20600/33500], Loss: 6691136.0000\n",
            "Epoch [20700/33500], Loss: 6660742.5000\n",
            "Epoch [20800/33500], Loss: 6638003.0000\n",
            "Epoch [20900/33500], Loss: 6623162.5000\n",
            "Epoch [21000/33500], Loss: 6619343.0000\n",
            "Epoch [21100/33500], Loss: 6589022.0000\n",
            "Epoch [21200/33500], Loss: 6566287.5000\n",
            "Epoch [21300/33500], Loss: 6550488.0000\n",
            "Epoch [21400/33500], Loss: 6526173.5000\n",
            "Epoch [21500/33500], Loss: 6529494.0000\n",
            "Epoch [21600/33500], Loss: 6500222.0000\n",
            "Epoch [21700/33500], Loss: 6489642.5000\n",
            "Epoch [21800/33500], Loss: 6459908.0000\n",
            "Epoch [21900/33500], Loss: 6444967.5000\n",
            "Epoch [22000/33500], Loss: 6412583.0000\n",
            "Epoch [22100/33500], Loss: 6395876.0000\n",
            "Epoch [22200/33500], Loss: 6412783.5000\n",
            "Epoch [22300/33500], Loss: 6353734.0000\n",
            "Epoch [22400/33500], Loss: 6347026.0000\n",
            "Epoch [22500/33500], Loss: 6320171.0000\n",
            "Epoch [22600/33500], Loss: 6317122.0000\n",
            "Epoch [22700/33500], Loss: 6298019.0000\n",
            "Epoch [22800/33500], Loss: 6270778.0000\n",
            "Epoch [22900/33500], Loss: 6265571.0000\n",
            "Epoch [23000/33500], Loss: 6243467.0000\n",
            "Epoch [23100/33500], Loss: 6231916.0000\n",
            "Epoch [23200/33500], Loss: 6232779.0000\n",
            "Epoch [23300/33500], Loss: 6202871.5000\n",
            "Epoch [23400/33500], Loss: 6178729.5000\n",
            "Epoch [23500/33500], Loss: 6171791.0000\n",
            "Epoch [23600/33500], Loss: 6156304.5000\n",
            "Epoch [23700/33500], Loss: 6154773.0000\n",
            "Epoch [23800/33500], Loss: 6136098.5000\n",
            "Epoch [23900/33500], Loss: 6117887.0000\n",
            "Epoch [24000/33500], Loss: 6110945.0000\n",
            "Epoch [24100/33500], Loss: 6111519.0000\n",
            "Epoch [24200/33500], Loss: 6087965.0000\n",
            "Epoch [24300/33500], Loss: 6063431.5000\n",
            "Epoch [24400/33500], Loss: 6055796.5000\n",
            "Epoch [24500/33500], Loss: 6048434.5000\n",
            "Epoch [24600/33500], Loss: 6021110.5000\n",
            "Epoch [24700/33500], Loss: 6004967.5000\n",
            "Epoch [24800/33500], Loss: 6004093.5000\n",
            "Epoch [24900/33500], Loss: 5984211.0000\n",
            "Epoch [25000/33500], Loss: 5970894.5000\n",
            "Epoch [25100/33500], Loss: 5956407.0000\n",
            "Epoch [25200/33500], Loss: 5980660.5000\n",
            "Epoch [25300/33500], Loss: 5942635.0000\n",
            "Epoch [25400/33500], Loss: 5925145.5000\n",
            "Epoch [25500/33500], Loss: 5898978.0000\n",
            "Epoch [25600/33500], Loss: 5886097.0000\n",
            "Epoch [25700/33500], Loss: 5885243.0000\n",
            "Epoch [25800/33500], Loss: 5878542.0000\n",
            "Epoch [25900/33500], Loss: 5869149.0000\n",
            "Epoch [26000/33500], Loss: 5853198.0000\n",
            "Epoch [26100/33500], Loss: 5833997.5000\n",
            "Epoch [26200/33500], Loss: 5795976.5000\n",
            "Epoch [26300/33500], Loss: 5803002.5000\n",
            "Epoch [26400/33500], Loss: 5772797.0000\n",
            "Epoch [26500/33500], Loss: 5748200.5000\n",
            "Epoch [26600/33500], Loss: 5743513.0000\n",
            "Epoch [26700/33500], Loss: 5728528.5000\n",
            "Epoch [26800/33500], Loss: 5700628.5000\n",
            "Epoch [26900/33500], Loss: 5680370.5000\n",
            "Epoch [27000/33500], Loss: 5691612.0000\n",
            "Epoch [27100/33500], Loss: 5658844.5000\n",
            "Epoch [27200/33500], Loss: 5639193.0000\n",
            "Epoch [27300/33500], Loss: 5633126.0000\n",
            "Epoch [27400/33500], Loss: 5631380.0000\n",
            "Epoch [27500/33500], Loss: 5607985.0000\n",
            "Epoch [27600/33500], Loss: 5614400.0000\n",
            "Epoch [27700/33500], Loss: 5575658.0000\n",
            "Epoch [27800/33500], Loss: 5567097.5000\n",
            "Epoch [27900/33500], Loss: 5568310.0000\n",
            "Epoch [28000/33500], Loss: 5558575.0000\n",
            "Epoch [28100/33500], Loss: 5540528.5000\n",
            "Epoch [28200/33500], Loss: 5516779.0000\n",
            "Epoch [28300/33500], Loss: 5516845.5000\n",
            "Epoch [28400/33500], Loss: 5521792.5000\n",
            "Epoch [28500/33500], Loss: 5487582.0000\n",
            "Epoch [28600/33500], Loss: 5475026.0000\n",
            "Epoch [28700/33500], Loss: 5463539.5000\n",
            "Epoch [28800/33500], Loss: 5456556.5000\n",
            "Epoch [28900/33500], Loss: 5465153.0000\n",
            "Epoch [29000/33500], Loss: 5459479.5000\n",
            "Epoch [29100/33500], Loss: 5441269.0000\n",
            "Epoch [29200/33500], Loss: 5442496.0000\n",
            "Epoch [29300/33500], Loss: 5418495.5000\n",
            "Epoch [29400/33500], Loss: 5411339.5000\n",
            "Epoch [29500/33500], Loss: 5390542.0000\n",
            "Epoch [29600/33500], Loss: 5386492.5000\n",
            "Epoch [29700/33500], Loss: 5384727.0000\n",
            "Epoch [29800/33500], Loss: 5392003.0000\n",
            "Epoch [29900/33500], Loss: 5361387.0000\n",
            "Epoch [30000/33500], Loss: 5352142.0000\n",
            "Epoch [30100/33500], Loss: 5346492.0000\n",
            "Epoch [30200/33500], Loss: 5339179.0000\n",
            "Epoch [30300/33500], Loss: 5331039.5000\n",
            "Epoch [30400/33500], Loss: 5322267.5000\n",
            "Epoch [30500/33500], Loss: 5316699.5000\n",
            "Epoch [30600/33500], Loss: 5305375.5000\n",
            "Epoch [30700/33500], Loss: 5316488.5000\n",
            "Epoch [30800/33500], Loss: 5294306.0000\n",
            "Epoch [30900/33500], Loss: 5297593.5000\n",
            "Epoch [31000/33500], Loss: 5291982.0000\n",
            "Epoch [31100/33500], Loss: 5293458.5000\n",
            "Epoch [31200/33500], Loss: 5275245.0000\n",
            "Epoch [31300/33500], Loss: 5272775.5000\n",
            "Epoch [31400/33500], Loss: 5267110.0000\n",
            "Epoch [31500/33500], Loss: 5246219.5000\n",
            "Epoch [31600/33500], Loss: 5250248.0000\n",
            "Epoch [31700/33500], Loss: 5229130.0000\n",
            "Epoch [31800/33500], Loss: 5236237.0000\n",
            "Epoch [31900/33500], Loss: 5232022.5000\n",
            "Epoch [32000/33500], Loss: 5210489.0000\n",
            "Epoch [32100/33500], Loss: 5210932.5000\n",
            "Epoch [32200/33500], Loss: 5209577.0000\n",
            "Epoch [32300/33500], Loss: 5201870.0000\n",
            "Epoch [32400/33500], Loss: 5202048.5000\n",
            "Epoch [32500/33500], Loss: 5219511.0000\n",
            "Epoch [32600/33500], Loss: 5176217.5000\n",
            "Epoch [32700/33500], Loss: 5183157.0000\n",
            "Epoch [32800/33500], Loss: 5179316.5000\n",
            "Epoch [32900/33500], Loss: 5182986.5000\n",
            "Epoch [33000/33500], Loss: 5174853.0000\n",
            "Epoch [33100/33500], Loss: 5154890.0000\n",
            "Epoch [33200/33500], Loss: 5167244.5000\n",
            "Epoch [33300/33500], Loss: 5126949.5000\n",
            "Epoch [33400/33500], Loss: 5123782.5000\n",
            "Epoch [33500/33500], Loss: 5120397.0000\n"
          ]
        }
      ]
    },
    {
      "cell_type": "markdown",
      "source": [
        "#### Model evaluation"
      ],
      "metadata": {
        "id": "h_xmnq1X4qEP"
      }
    },
    {
      "cell_type": "code",
      "source": [
        "model.eval()\n",
        "y_pred = model(X_test_tensor).detach().numpy()\n",
        "y_true = Y_test_tensor.numpy()"
      ],
      "metadata": {
        "id": "wGL6MOVe4Cin"
      },
      "execution_count": 117,
      "outputs": []
    },
    {
      "cell_type": "code",
      "source": [
        "from sklearn.metrics import mean_squared_error, mean_absolute_error, r2_score\n",
        "\n",
        "y_test_numpy = Y_test_tensor.numpy()\n",
        "\n",
        "# Claculate metrics\n",
        "mse = mean_squared_error(y_test_numpy, y_pred)\n",
        "rmse = mse ** 0.5\n",
        "\n",
        "mae = mean_absolute_error(y_test_numpy, y_pred)\n",
        "r2 = r2_score(y_test_numpy, y_pred)\n",
        "\n",
        "print(f\"MSE is:- {mse}\")\n",
        "print(f\"RMSE is:- {rmse}\")\n",
        "print(f\"MAE is:- {mae}\")\n",
        "print(f\"r2 is:- {r2}\")"
      ],
      "metadata": {
        "colab": {
          "base_uri": "https://localhost:8080/"
        },
        "id": "Uslg0Pn96G_s",
        "outputId": "b6635f17-9090-41f0-dc32-cff1d07f7615"
      },
      "execution_count": 102,
      "outputs": [
        {
          "output_type": "stream",
          "name": "stdout",
          "text": [
            "MSE is:- 50607676.0\n",
            "RMSE is:- 7113.907224584813\n",
            "MAE is:- 4715.62646484375\n",
            "r2 is:- 0.6740219593048096\n"
          ]
        }
      ]
    },
    {
      "cell_type": "code",
      "source": [
        "def predict_charges(age, sex, bmi, children, smoker, region):\n",
        "  input_data = pd.DataFrame([[age, sex, bmi, children, smoker, region]],\n",
        "               columns=['age', 'sex', 'bmi', 'children', 'smoker', 'region'])\n",
        "\n",
        "  for col in ['sex', 'smoker', 'region']:\n",
        "    input_data[col] = label_encoder[col].transform(input_data[col])\n",
        "  input_data = scaler.transform(input_data)\n",
        "  input_tensor = torch.tensor(input_data, dtype = torch.float32)\n",
        "\n",
        "\n",
        "  predicted_charge = model(input_tensor).item()\n",
        "  return predicted_charge"
      ],
      "metadata": {
        "id": "qBqe0lJmLomI"
      },
      "execution_count": 103,
      "outputs": []
    },
    {
      "cell_type": "code",
      "source": [
        "predicted_value = predict_charges(19, 'female', 27.9, 0, 'yes', 'southwest')"
      ],
      "metadata": {
        "id": "OctylXKoNDTI"
      },
      "execution_count": 113,
      "outputs": []
    },
    {
      "cell_type": "code",
      "source": [
        "print(f\"Predicted insurance charge:-  ${predicted_value:.2f}\")"
      ],
      "metadata": {
        "colab": {
          "base_uri": "https://localhost:8080/"
        },
        "id": "V-0LC7cZOVem",
        "outputId": "0a715187-9b55-4733-d114-3885bb1f7fa6"
      },
      "execution_count": 114,
      "outputs": [
        {
          "output_type": "stream",
          "name": "stdout",
          "text": [
            "Predicted insurance charge:-  $16753.79\n"
          ]
        }
      ]
    },
    {
      "cell_type": "code",
      "source": [
        "# Save model\n",
        "torch.save(model.state_dict(), 'MyCoolMLProject/model/trained_model.pt')\n"
      ],
      "metadata": {
        "id": "ITXgxFXTZOpG"
      },
      "execution_count": 106,
      "outputs": []
    },
    {
      "cell_type": "code",
      "source": [
        "# Plotting a scatter plot with a line y=x for showing how much ideal the trained model is\n",
        "\n",
        "plt.figure(figsize = (8,6))\n",
        "sns.scatterplot(x = y_true.flatten(), y = y_pred.flatten())\n",
        "plt.plot([y_true.min(), y_true.max()], [y_true.min(),y_true.max()], linestyle = '-', color = 'red', label = 'Ideal fit:- y = x')\n",
        "plt.xlabel('Actual Charges')\n",
        "plt.ylabel('Predicted Charges')\n",
        "plt.title('Actual vs Predicted Charges')\n",
        "plt.legend()\n",
        "plt.grid(True)\n",
        "plt.show()"
      ],
      "metadata": {
        "id": "V_4Z0stMOmZN",
        "colab": {
          "base_uri": "https://localhost:8080/",
          "height": 564
        },
        "outputId": "d732ba16-98be-43a0-d4c3-63846881cdb7"
      },
      "execution_count": 119,
      "outputs": [
        {
          "output_type": "display_data",
          "data": {
            "text/plain": [
              "<Figure size 800x600 with 1 Axes>"
            ],
            "image/png": "[encoded data removed]"
          },
          "metadata": {}
        }
      ]
    },
    {
      "cell_type": "code",
      "source": [
        "import shutil\n",
        "import os\n",
        "\n",
        "# Get the current notebook filename\n",
        "notebook_path = '/content/Insurance_prediction.ipynb'  # Default Colab notebook name\n",
        "\n",
        "# Check if the notebook file exists before attempting to move it\n",
        "if os.path.exists(notebook_path):\n",
        "    # Move the notebook to the notebook folder\n",
        "    shutil.move(notebook_path, '/content/MyCoolMLProject/notebook/Insurance_prediction.ipynb')\n",
        "else:\n",
        "    print(f\"Notebook file not found at: {notebook_path}\")"
      ],
      "metadata": {
        "colab": {
          "base_uri": "https://localhost:8080/"
        },
        "id": "a-cSDEtmrywA",
        "outputId": "400fed43-fa02-4eb0-ae1d-381de7f83faa"
      },
      "execution_count": 125,
      "outputs": [
        {
          "output_type": "stream",
          "name": "stdout",
          "text": [
            "Notebook file not found at: /content/Insurance_prediction.ipynb\n"
          ]
        }
      ]
    },
    {
      "cell_type": "code",
      "source": [],
      "metadata": {
        "id": "OfV-QYzRsgy6"
      },
      "execution_count": null,
      "outputs": []
    }
  ]
}